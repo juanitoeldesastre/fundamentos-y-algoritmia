{
 "cells": [
  {
   "cell_type": "markdown",
   "metadata": {},
   "source": [
    "### Importancia de la estadística en Inteligencia Artificial 🤖\n",
    "\n",
    "La **estadística** es una herramienta esencial en el campo de la **inteligencia artificial (IA)** porque proporciona los métodos necesarios para analizar y entender los datos. Los modelos de IA dependen completamente de los datos que se les proporcionan, y la estadística ayuda a interpretar estos datos de manera adecuada, a realizar predicciones y a tomar decisiones informadas."
   ]
  },
  {
   "cell_type": "markdown",
   "metadata": {},
   "source": [
    "#### Razones por las que la estadística es importante en Inteligencia Artificial:\n",
    "\n",
    "1. **Análisis de datos**: Antes de entrenar modelos de IA, es crucial comprender los datos. Las técnicas estadísticas permiten explorar las características de los datos, detectar patrones y tendencias, y asegurarse de que los datos sean adecuados para ser procesados por los modelos.\n",
    "\n",
    "2. **Evaluación de modelos**: Las métricas estadísticas son esenciales para medir el rendimiento de los modelos de IA. Indicadores como la precisión, la exactitud, la desviación estándar y otros permiten evaluar la eficacia de los modelos.\n",
    "\n",
    "3. **Modelado de incertidumbre**: Muchos modelos de IA, como los de aprendizaje automático y redes neuronales, están diseñados para manejar incertidumbre. Las distribuciones estadísticas y la probabilidad son herramientas clave para tratar con esta incertidumbre.\n",
    "\n",
    "4. **Mejora de la toma de decisiones**: Los modelos de IA como los sistemas de recomendación y los algoritmos de clasificación se basan en la probabilidad y la estadística para predecir resultados y tomar decisiones que pueden afectar a millones de usuarios."
   ]
  },
  {
   "cell_type": "markdown",
   "metadata": {},
   "source": [
    "### Ejemplos de cálculo de **media** y **mediana** "
   ]
  },
  {
   "cell_type": "markdown",
   "metadata": {},
   "source": [
    "\n",
    "1. **Cálculo de la Media** 🧮: En Python, la media es simplemente la suma de todos los elementos de un conjunto de datos dividido por el número total de elementos."
   ]
  },
  {
   "cell_type": "code",
   "execution_count": null,
   "metadata": {
    "vscode": {
     "languageId": "plaintext"
    }
   },
   "outputs": [],
   "source": [
    "# Cálculo de la media\n",
    "data = [2, 4, 6, 8, 10]\n",
    "media = sum(data) / len(data)\n",
    "print(f\"Media: {media}\")"
   ]
  },
  {
   "cell_type": "markdown",
   "metadata": {},
   "source": [
    "2. **Cálculo de la Mediana** 📏: La mediana es el valor central de un conjunto de datos ordenados. Si el número de elementos es impar, la mediana es el valor medio; si es par, es el promedio de los dos valores centrales."
   ]
  },
  {
   "cell_type": "code",
   "execution_count": null,
   "metadata": {
    "vscode": {
     "languageId": "plaintext"
    }
   },
   "outputs": [],
   "source": [
    "# Cálculo de la mediana\n",
    "data = [2, 4, 6, 8, 10]\n",
    "data.sort()  # Asegurarse de que los datos estén ordenados\n",
    "n = len(data)\n",
    "\n",
    "if n % 2 == 1:\n",
    "    mediana = data[n // 2]  # Si el número de elementos es impar\n",
    "else:\n",
    "    mediana = (data[n // 2 - 1] + data[n // 2]) / 2  # Si es par\n",
    "\n",
    "print(f\"Mediana: {mediana}\")"
   ]
  },
  {
   "cell_type": "markdown",
   "metadata": {},
   "source": [
    "3. **Cálculo de la media y mediana con `numpy`** 🔢:"
   ]
  },
  {
   "cell_type": "code",
   "execution_count": null,
   "metadata": {
    "vscode": {
     "languageId": "plaintext"
    }
   },
   "outputs": [],
   "source": [
    "import numpy as np\n",
    "\n",
    "# Cálculo de la media y mediana usando numpy\n",
    "data = np.array([2, 4, 6, 8, 10])\n",
    "media_np = np.mean(data)\n",
    "mediana_np = np.median(data)\n",
    "\n",
    "print(f\"Media con numpy: {media_np}\")\n",
    "print(f\"Mediana con numpy: {mediana_np}\")"
   ]
  },
  {
   "cell_type": "markdown",
   "metadata": {},
   "source": [
    "4. **Cálculo de la media y mediana con `statistics`** 📐:"
   ]
  },
  {
   "cell_type": "code",
   "execution_count": null,
   "metadata": {
    "vscode": {
     "languageId": "plaintext"
    }
   },
   "outputs": [],
   "source": [
    "import statistics as stats\n",
    "\n",
    "# Cálculo de la media y mediana usando statistics\n",
    "data = [2, 4, 6, 8, 10]\n",
    "media_stat = stats.mean(data)\n",
    "mediana_stat = stats.median(data)\n",
    "\n",
    "print(f\"Media con statistics: {media_stat}\")\n",
    "print(f\"Mediana con statistics: {mediana_stat}\")"
   ]
  },
  {
   "cell_type": "markdown",
   "metadata": {},
   "source": [
    "### Conclusión\n",
    "\n",
    "La **estadística** es indispensable para trabajar con datos en Inteligencia Artificial. Las herramientas estadísticas como la **media** y la **mediana** son fundamentales para resumir y entender los datos antes de aplicar técnicas más complejas. Estos cálculos permiten a los científicos de datos y a los ingenieros de IA analizar la distribución de los datos, detectar anomalías, y preprocesarlos de manera efectiva antes de usarlos en el entrenamiento de modelos de IA."
   ]
  }
 ],
 "metadata": {
  "kernelspec": {
   "display_name": "Python 3 (ipykernel)",
   "language": "python",
   "name": "python3"
  },
  "language_info": {
   "codemirror_mode": {
    "name": "ipython",
    "version": 3
   },
   "file_extension": ".py",
   "mimetype": "text/x-python",
   "name": "python",
   "nbconvert_exporter": "python",
   "pygments_lexer": "ipython3",
   "version": "3.12.4"
  }
 },
 "nbformat": 4,
 "nbformat_minor": 4
}
